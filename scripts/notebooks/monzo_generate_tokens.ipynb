{
 "cells": [
  {
   "cell_type": "code",
   "execution_count": null,
   "metadata": {},
   "outputs": [],
   "source": [
    "\n",
    "from monzo.authentication import Authentication\n",
    "\n",
    "client_id = ''  # Client ID obtained when creating Monzo client\n",
    "client_secret = ''  # Client secret obtained when creating Monzo client\n",
    "redirect_uri = 'http://127.0.0.1/monzo'  # URL requests via Monzo will be redirected in a browser\n",
    "\n",
    "# The user should visit the following url generated and login with their Monzo email\n",
    "monzo = Authentication(client_id=client_id, client_secret=client_secret, redirect_url=redirect_uri)\n",
    "monzo.authentication_url"
   ]
  },
  {
   "cell_type": "markdown",
   "metadata": {},
   "source": [
    "Once you login in, you will need to click the link Monzo will send in your email and then copy the URL of the address it redirects you to (it won't load anything, so will appear to not work). Copy the URL and paste it below so you can extraxt the 'state' and 'code'.\n",
    "\n",
    "An example will look like this:\n",
    "'https://auth.monzo.com?client_id=&redirect_uri=http://127.0.0.1/monzo&response_type=code&state=ty8idtut7'"
   ]
  },
  {
   "cell_type": "code",
   "execution_count": null,
   "metadata": {},
   "outputs": [],
   "source": [
    "state = ''  # State random string created when creating the Monzo URL (generated in step 1 and appended to the URL)\n",
    "code = ''  # Authorization code from Monzo (this will be in the redirected URL after clicking the link from step 1)\n",
    "\n",
    "monzo.authenticate(authorization_token=code, state_token=state)\n",
    "# The following 3 items should be stored for future requests\n",
    "print(f\"access_token = '{monzo.access_token}'\")\n",
    "print(f'expiry = {monzo.access_token_expiry}')\n",
    "print(f\"refresh_token = '{monzo.refresh_token}'\")\n",
    "\n",
    "# Now authorise access in the Monzo app. Copy these tokens and store them in your tokens script in your directory"
   ]
  },
  {
   "cell_type": "code",
   "execution_count": null,
   "metadata": {},
   "outputs": [],
   "source": []
  }
 ],
 "metadata": {
  "kernelspec": {
   "display_name": "Python 3.9.1 ('monzo-dashboard-lZAXDDlB-py3.9')",
   "language": "python",
   "name": "python3"
  },
  "language_info": {
   "codemirror_mode": {
    "name": "ipython",
    "version": 3
   },
   "file_extension": ".py",
   "mimetype": "text/x-python",
   "name": "python",
   "nbconvert_exporter": "python",
   "pygments_lexer": "ipython3",
   "version": "3.9.1"
  },
  "orig_nbformat": 4,
  "vscode": {
   "interpreter": {
    "hash": "4a5025ac8f3ee0c74d38c1ad01dafa05e4bea313bbff4a51ab208435aa493b89"
   }
  }
 },
 "nbformat": 4,
 "nbformat_minor": 2
}
